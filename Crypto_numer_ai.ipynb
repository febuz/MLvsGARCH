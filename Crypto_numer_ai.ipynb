{
  "cells": [
    {
      "cell_type": "markdown",
      "metadata": {
        "id": "view-in-github",
        "colab_type": "text"
      },
      "source": [
        "<a href=\"https://colab.research.google.com/github/febuz/MLvsGARCH/blob/master/Crypto_numer_ai.ipynb\" target=\"_parent\"><img src=\"https://colab.research.google.com/assets/colab-badge.svg\" alt=\"Open In Colab\"/></a>"
      ]
    },
    {
      "cell_type": "code",
      "source": [
        "pip install numerapi"
      ],
      "metadata": {
        "colab": {
          "base_uri": "https://localhost:8080/"
        },
        "id": "E83Ri6cBUPbg",
        "outputId": "8fca839e-e284-4236-da05-2eb004290794"
      },
      "id": "E83Ri6cBUPbg",
      "execution_count": null,
      "outputs": [
        {
          "output_type": "stream",
          "name": "stdout",
          "text": [
            "Collecting numerapi\n",
            "  Downloading numerapi-2.19.1-py3-none-any.whl.metadata (7.0 kB)\n",
            "Requirement already satisfied: requests in /usr/local/lib/python3.11/dist-packages (from numerapi) (2.32.3)\n",
            "Requirement already satisfied: pytz in /usr/local/lib/python3.11/dist-packages (from numerapi) (2024.2)\n",
            "Requirement already satisfied: python-dateutil in /usr/local/lib/python3.11/dist-packages (from numerapi) (2.8.2)\n",
            "Requirement already satisfied: tqdm>=4.29.1 in /usr/local/lib/python3.11/dist-packages (from numerapi) (4.67.1)\n",
            "Requirement already satisfied: click>=7.0 in /usr/local/lib/python3.11/dist-packages (from numerapi) (8.1.8)\n",
            "Requirement already satisfied: pandas>=1.1.0 in /usr/local/lib/python3.11/dist-packages (from numerapi) (2.2.2)\n",
            "Requirement already satisfied: numpy>=1.23.2 in /usr/local/lib/python3.11/dist-packages (from pandas>=1.1.0->numerapi) (1.26.4)\n",
            "Requirement already satisfied: tzdata>=2022.7 in /usr/local/lib/python3.11/dist-packages (from pandas>=1.1.0->numerapi) (2024.2)\n",
            "Requirement already satisfied: six>=1.5 in /usr/local/lib/python3.11/dist-packages (from python-dateutil->numerapi) (1.17.0)\n",
            "Requirement already satisfied: charset-normalizer<4,>=2 in /usr/local/lib/python3.11/dist-packages (from requests->numerapi) (3.4.1)\n",
            "Requirement already satisfied: idna<4,>=2.5 in /usr/local/lib/python3.11/dist-packages (from requests->numerapi) (3.10)\n",
            "Requirement already satisfied: urllib3<3,>=1.21.1 in /usr/local/lib/python3.11/dist-packages (from requests->numerapi) (2.3.0)\n",
            "Requirement already satisfied: certifi>=2017.4.17 in /usr/local/lib/python3.11/dist-packages (from requests->numerapi) (2024.12.14)\n",
            "Downloading numerapi-2.19.1-py3-none-any.whl (27 kB)\n",
            "Installing collected packages: numerapi\n",
            "Successfully installed numerapi-2.19.1\n"
          ]
        }
      ]
    },
    {
      "cell_type": "code",
      "source": [
        "from numerapi import CryptoAPI\n",
        "api = CryptoAPI()\n",
        "api.download_dataset(\n",
        "\t\"crypto/v1.0/live_universe.parquet\",\n",
        "\t\"live_universe.parquet\"\n",
        ")\n",
        "api.download_dataset(\n",
        "\t\"crypto/v1.0/train_targets.parquet\",\n",
        "\t\"train_targets.parquet\"\n",
        ")"
      ],
      "metadata": {
        "colab": {
          "base_uri": "https://localhost:8080/",
          "height": 71
        },
        "id": "KFKa3p3yUNiB",
        "outputId": "becce252-c2df-4d5d-acf2-6e50d6c95467"
      },
      "id": "KFKa3p3yUNiB",
      "execution_count": null,
      "outputs": [
        {
          "output_type": "stream",
          "name": "stderr",
          "text": [
            "live_universe.parquet: 8.19kB [00:00, 1.67MB/s]                   \n",
            "train_targets.parquet: 736kB [00:00, 4.03MB/s]                           \n"
          ]
        },
        {
          "output_type": "execute_result",
          "data": {
            "text/plain": [
              "'train_targets.parquet'"
            ],
            "application/vnd.google.colaboratory.intrinsic+json": {
              "type": "string"
            }
          },
          "metadata": {},
          "execution_count": 2
        }
      ]
    },
    {
      "cell_type": "code",
      "execution_count": null,
      "id": "5bf19128-f39c-43ce-8503-9eff8df18434",
      "metadata": {
        "tags": [
          "hide-cell"
        ],
        "id": "5bf19128-f39c-43ce-8503-9eff8df18434"
      },
      "outputs": [],
      "source": [
        "# Install the necessary dependencies\n",
        "\n",
        "import os\n",
        "import sys\n",
        "!pip install --quiet scikit-learn numpy matplotlib\n"
      ]
    },
    {
      "cell_type": "markdown",
      "id": "cb578cb6-9845-4eb3-94ab-51c5e677031a",
      "metadata": {
        "tags": [
          "remove-cell"
        ],
        "id": "cb578cb6-9845-4eb3-94ab-51c5e677031a"
      },
      "source": [
        "---\n",
        "license:\n",
        "    code: MIT\n",
        "    content: CC-BY-4.0\n",
        "github: https://github.com/ocademy-ai/machine-learning\n",
        "venue: By Ocademy\n",
        "open_access: true\n",
        "bibliography:\n",
        "  - https://raw.githubusercontent.com/ocademy-ai/machine-learning/main/open-machine-learning-jupyter-book/references.bib\n",
        "---"
      ]
    },
    {
      "cell_type": "markdown",
      "id": "663dea79",
      "metadata": {
        "tags": [],
        "id": "663dea79"
      },
      "source": [
        "# Linear and polynomial regression\n",
        "\n",
        " https://static-1300131294.cos.ap-shanghai.myqcloud.com/images/ml-regression/linear-polynomial.png\n"
      ]
    },
    {
      "cell_type": "markdown",
      "id": "ed080429-60c9-4f56-a3b5-7f3c533ec961",
      "metadata": {
        "tags": [],
        "id": "ed080429-60c9-4f56-a3b5-7f3c533ec961"
      },
      "source": [
        "```{seealso}\n",
        "Run the notebook accompanying this lesson and look at the Month to Price scatterplot. Does the data associating Month to Price for pumpkin sales seem to have high or low correlation, according to our visual interpretation of the scatterplot? Does that change if we use more fine-grained measure instead of `Month`, eg. *day of the year* (i.e. number of days since the beginning of the year)?\n",
        "```"
      ]
    },
    {
      "cell_type": "markdown",
      "id": "d0525b63-aae3-492a-b251-8131622648d0",
      "metadata": {
        "tags": [],
        "id": "d0525b63-aae3-492a-b251-8131622648d0"
      },
      "source": [
        "## Build a regression model using Scikit-learn: regression four ways"
      ]
    },
    {
      "cell_type": "code",
      "execution_count": null,
      "id": "f1dfeda2",
      "metadata": {
        "tags": [
          "hide-input"
        ],
        "id": "f1dfeda2",
        "outputId": "5091dff0-da6e-477d-cc38-eadb8c4690d0",
        "colab": {
          "base_uri": "https://localhost:8080/",
          "height": 660
        }
      },
      "outputs": [
        {
          "output_type": "display_data",
          "data": {
            "text/plain": [
              "<IPython.core.display.HTML object>"
            ],
            "text/html": [
              "\n",
              "<p style=\"text-align: center;\">\n",
              "<iframe src=\"https://static-1300131294.cos.ap-shanghai.myqcloud.com/html/liner-palyground/index.html\" width=\"105%\" height=\"590px;\"\n",
              "style=\"border:none;\" scrolling=\"auto\"></iframe>\n",
              "A demo of linear-regression. <a href=\"https://observablehq.com/@yizhe-ang/interactive-visualization-of-linear-regression\"> [source]</a>\n",
              "</p>\n"
            ]
          },
          "metadata": {}
        }
      ],
      "source": [
        "from IPython.display import HTML\n",
        "\n",
        "display(\n",
        "    HTML(\n",
        "        \"\"\"\n",
        "<p style=\"text-align: center;\">\n",
        "<iframe src=\"https://static-1300131294.cos.ap-shanghai.myqcloud.com/html/liner-palyground/index.html\" width=\"105%\" height=\"590px;\"\n",
        "style=\"border:none;\" scrolling=\"auto\"></iframe>\n",
        "A demo of linear-regression. <a href=\"https://observablehq.com/@yizhe-ang/interactive-visualization-of-linear-regression\"> [source]</a>\n",
        "</p>\n",
        "\"\"\"\n",
        "    )\n",
        ")"
      ]
    },
    {
      "cell_type": "markdown",
      "id": "d08017d2",
      "metadata": {
        "tags": [],
        "id": "d08017d2"
      },
      "source": [
        "\n",
        "\n",
        "### Introduction\n",
        "\n",
        "So far we have explored what regression is with sample data gathered from the pumpkin pricing dataset that we will use throughout this lesson. We have also visualized it using Matplotlib.\n",
        "\n",
        "Now we are ready to dive deeper into regression for Machine Learning. While visualization allows we to make sense of data, the real power of Machine Learning comes from _training models_. Models are trained on historical data to automatically capture data dependencies, and they allow we to predict outcomes for new data, which the model has not seen before.\n",
        "\n",
        "In this lesson, we will learn more about two types of regression: _basic linear regression_ and _polynomial regression_, along with some of the math underlying these techniques. Those models will allow us to predict pumpkin prices depending on different input data.\n",
        "\n",
        ":::{note}\n",
        "Throughout this curriculum, we assume minimal knowledge of math, and seek to make it accessible for students coming from other fields, so watch for notes, callouts, diagrams, and other learning tools to aid in comprehension.\n",
        ":::\n",
        "\n",
        "### Prerequisite\n",
        "\n",
        "We should be familiar by now with the structure of the pumpkin data that we are examining. We can find it preloaded and pre-cleaned in this section's [linear and polynomial regression.ipynb](../../assignments/ml-fundamentals/linear-and-polynomial-regression.ipynb) file. In the file, the pumpkin price is displayed per bushel in a new data frame.  Make sure we can run these notebooks in kernels in Visual Studio Code.\n",
        "\n",
        "### Preparation\n",
        "\n",
        "As a reminder, we are loading this data so as to ask questions about it.\n",
        "\n",
        "- When is the best time to buy pumpkins?\n",
        "- What price can I expect of a case of miniature pumpkins?\n",
        "- Should I buy them in half-bushel baskets or by the 1 1/9 bushel box?\n",
        "Let's keep digging into this data.\n",
        "\n",
        "In the previous lesson, we created a Pandas data frame and populated it with part of the original dataset, standardizing the pricing by bushel. By doing that, however, we were only able to gather about 400 data points and only for the fall months.\n",
        "\n",
        "Take a look at the data that we preloaded in this lesson's accompanying notebook. The data is preloaded and an initial scatterplot is charted to show monthly data. Maybe we can get a little more detail about the nature of the data by cleaning it more.\n",
        "\n",
        "## A linear regression line\n",
        "\n",
        "As we learned in section 1, the goal of a linear regression exercise is to be able to plot a line to:\n",
        "\n",
        "- **Show variable relationships**. Show the relationship between variables\n",
        "- **Make predictions**. Make accurate predictions on where a new data point would fall in relationship to that line.\n",
        "\n",
        "It is typical of **Least-Squares Regression** to draw this type of line. The term 'least-squares' means that all the data points surrounding the regression line are squared and then added up. Ideally, that final sum is as small as possible, because we want a low number of errors or `least-squares``.\n",
        "\n",
        "We do so since we want to model a line that has the least cumulative distance from all of our data points. We also square the terms before adding them since we are concerned with their magnitude rather than their direction.\n",
        "\n",
        ":::{seealso}\n",
        "**Show me the math**\n",
        "\n",
        "This line, called the _line of best fit_ can be expressed by [an equation](https://en.wikipedia.org/wiki/Simple_linear_regression):  \n",
        "\n",
        "> ```\n",
        "> Y = a + bX\n",
        "> ```\n",
        "\n",
        "`X` is the 'explanatory variable'. `Y` is the 'dependent variable'. The slope of the line is `b` and `a` is the y-intercept, which refers to the value of `Y` when `X = 0`.\n",
        "\n",
        ">:::{figure} https://static-1300131294.cos.ap-shanghai.myqcloud.com/images/ml-regression/slope.png\n",
        ">---\n",
        ">name: 'calculate the slope'\n",
        ">width: 60%\n",
        ">---\n",
        ">Infographic by [Jen Looper](https://twitter.com/jenlooper)\n",
        ">:::\n",
        "\n",
        "First, calculate the slope `b`.\n",
        "\n",
        "In other words, and referring to our pumpkin data's original question: \"predict the price of a pumpkin per bushel by month\", `X` would refer to the price and `Y` would refer to the month of sale.\n",
        "\n",
        ">:::{figure} https://static-1300131294.cos.ap-shanghai.myqcloud.com/images/ml-regression/calculation.png\n",
        ">---\n",
        ">name: 'complete the equation'\n",
        ">width: 60%\n",
        ">---\n",
        ">Infographic by [Jen Looper](https://twitter.com/jenlooper)\n",
        ">:::\n",
        "\n",
        "Calculate the value of Y. If we're paying around $4, it must be April!\n",
        "\n",
        "The math that calculates the line must demonstrate the slope of the line, which is also dependent on the intercept, or where `Y` is situated when `X = 0`.\n",
        "\n",
        "We can observe the method of calculation for these values on the [Math is Fun](https://www.mathsisfun.com/data/least-squares-regression.html) website. Also, visit [this Least-squares calculator](https://www.mathsisfun.com/data/least-squares-calculator.html) to watch how the numbers' values impact the line.\n",
        ":::\n",
        "\n",
        "## Correlation\n",
        "\n",
        "One more term to understand is the **Correlation Coefficient** between given X and Y variables. Using a scatterplot, we can quickly visualize this coefficient. A plot with data points scattered in a neat line has a high correlation, but a plot with data points scattered everywhere between X and Y has a low correlation.\n",
        "\n",
        "A good linear regression model will be one that has a high (nearer to 1 than 0) Correlation Coefficient using the Least-Squares Regression method with a line of regression.\n",
        "\n",
        ":::{seealso}\n",
        "Run the notebook accompanying this lesson and look at the Month to Price scatterplot. Does the data associating Month to Price for pumpkin sales seem to have a high or low correlation, according to wer visual interpretation of the scatterplot? Does that change if we use a more fine-grained measure instead of `Month`, eg. *day of the year* (i.e. number of days since the beginning of the year)?\n",
        ":::\n",
        "\n",
        "In the code below, we will assume that we have cleaned up the data, and obtained a data frame called `new_pumpkins`, similar to the following:"
      ]
    },
    {
      "cell_type": "code",
      "execution_count": null,
      "id": "93a478b1",
      "metadata": {
        "attributes": {
          "classes": [
            "code-cell"
          ],
          "id": ""
        },
        "tags": [
          "output_scroll"
        ],
        "id": "93a478b1",
        "outputId": "8a8ba18e-4c92-4788-8509-595daffc342b"
      },
      "outputs": [
        {
          "data": {
            "text/html": [
              "<div>\n",
              "<style scoped>\n",
              "    .dataframe tbody tr th:only-of-type {\n",
              "        vertical-align: middle;\n",
              "    }\n",
              "\n",
              "    .dataframe tbody tr th {\n",
              "        vertical-align: top;\n",
              "    }\n",
              "\n",
              "    .dataframe thead th {\n",
              "        text-align: right;\n",
              "    }\n",
              "</style>\n",
              "<table border=\"1\" class=\"dataframe\">\n",
              "  <thead>\n",
              "    <tr style=\"text-align: right;\">\n",
              "      <th></th>\n",
              "      <th>City Name</th>\n",
              "      <th>Type</th>\n",
              "      <th>Package</th>\n",
              "      <th>Variety</th>\n",
              "      <th>Sub Variety</th>\n",
              "      <th>Grade</th>\n",
              "      <th>Date</th>\n",
              "      <th>Low Price</th>\n",
              "      <th>High Price</th>\n",
              "      <th>Mostly Low</th>\n",
              "      <th>...</th>\n",
              "      <th>Unit of Sale</th>\n",
              "      <th>Quality</th>\n",
              "      <th>Condition</th>\n",
              "      <th>Appearance</th>\n",
              "      <th>Storage</th>\n",
              "      <th>Crop</th>\n",
              "      <th>Repack</th>\n",
              "      <th>Trans Mode</th>\n",
              "      <th>Unnamed: 24</th>\n",
              "      <th>Unnamed: 25</th>\n",
              "    </tr>\n",
              "  </thead>\n",
              "  <tbody>\n",
              "    <tr>\n",
              "      <th>0</th>\n",
              "      <td>BALTIMORE</td>\n",
              "      <td>NaN</td>\n",
              "      <td>24 inch bins</td>\n",
              "      <td>NaN</td>\n",
              "      <td>NaN</td>\n",
              "      <td>NaN</td>\n",
              "      <td>4/29/17</td>\n",
              "      <td>270.0</td>\n",
              "      <td>280.0</td>\n",
              "      <td>270.0</td>\n",
              "      <td>...</td>\n",
              "      <td>NaN</td>\n",
              "      <td>NaN</td>\n",
              "      <td>NaN</td>\n",
              "      <td>NaN</td>\n",
              "      <td>NaN</td>\n",
              "      <td>NaN</td>\n",
              "      <td>E</td>\n",
              "      <td>NaN</td>\n",
              "      <td>NaN</td>\n",
              "      <td>NaN</td>\n",
              "    </tr>\n",
              "    <tr>\n",
              "      <th>1</th>\n",
              "      <td>BALTIMORE</td>\n",
              "      <td>NaN</td>\n",
              "      <td>24 inch bins</td>\n",
              "      <td>NaN</td>\n",
              "      <td>NaN</td>\n",
              "      <td>NaN</td>\n",
              "      <td>5/6/17</td>\n",
              "      <td>270.0</td>\n",
              "      <td>280.0</td>\n",
              "      <td>270.0</td>\n",
              "      <td>...</td>\n",
              "      <td>NaN</td>\n",
              "      <td>NaN</td>\n",
              "      <td>NaN</td>\n",
              "      <td>NaN</td>\n",
              "      <td>NaN</td>\n",
              "      <td>NaN</td>\n",
              "      <td>E</td>\n",
              "      <td>NaN</td>\n",
              "      <td>NaN</td>\n",
              "      <td>NaN</td>\n",
              "    </tr>\n",
              "    <tr>\n",
              "      <th>2</th>\n",
              "      <td>BALTIMORE</td>\n",
              "      <td>NaN</td>\n",
              "      <td>24 inch bins</td>\n",
              "      <td>HOWDEN TYPE</td>\n",
              "      <td>NaN</td>\n",
              "      <td>NaN</td>\n",
              "      <td>9/24/16</td>\n",
              "      <td>160.0</td>\n",
              "      <td>160.0</td>\n",
              "      <td>160.0</td>\n",
              "      <td>...</td>\n",
              "      <td>NaN</td>\n",
              "      <td>NaN</td>\n",
              "      <td>NaN</td>\n",
              "      <td>NaN</td>\n",
              "      <td>NaN</td>\n",
              "      <td>NaN</td>\n",
              "      <td>N</td>\n",
              "      <td>NaN</td>\n",
              "      <td>NaN</td>\n",
              "      <td>NaN</td>\n",
              "    </tr>\n",
              "    <tr>\n",
              "      <th>3</th>\n",
              "      <td>BALTIMORE</td>\n",
              "      <td>NaN</td>\n",
              "      <td>24 inch bins</td>\n",
              "      <td>HOWDEN TYPE</td>\n",
              "      <td>NaN</td>\n",
              "      <td>NaN</td>\n",
              "      <td>9/24/16</td>\n",
              "      <td>160.0</td>\n",
              "      <td>160.0</td>\n",
              "      <td>160.0</td>\n",
              "      <td>...</td>\n",
              "      <td>NaN</td>\n",
              "      <td>NaN</td>\n",
              "      <td>NaN</td>\n",
              "      <td>NaN</td>\n",
              "      <td>NaN</td>\n",
              "      <td>NaN</td>\n",
              "      <td>N</td>\n",
              "      <td>NaN</td>\n",
              "      <td>NaN</td>\n",
              "      <td>NaN</td>\n",
              "    </tr>\n",
              "    <tr>\n",
              "      <th>4</th>\n",
              "      <td>BALTIMORE</td>\n",
              "      <td>NaN</td>\n",
              "      <td>24 inch bins</td>\n",
              "      <td>HOWDEN TYPE</td>\n",
              "      <td>NaN</td>\n",
              "      <td>NaN</td>\n",
              "      <td>11/5/16</td>\n",
              "      <td>90.0</td>\n",
              "      <td>100.0</td>\n",
              "      <td>90.0</td>\n",
              "      <td>...</td>\n",
              "      <td>NaN</td>\n",
              "      <td>NaN</td>\n",
              "      <td>NaN</td>\n",
              "      <td>NaN</td>\n",
              "      <td>NaN</td>\n",
              "      <td>NaN</td>\n",
              "      <td>N</td>\n",
              "      <td>NaN</td>\n",
              "      <td>NaN</td>\n",
              "      <td>NaN</td>\n",
              "    </tr>\n",
              "  </tbody>\n",
              "</table>\n",
              "<p>5 rows × 26 columns</p>\n",
              "</div>"
            ],
            "text/plain": [
              "   City Name Type       Package      Variety Sub Variety  Grade     Date  \\\n",
              "0  BALTIMORE  NaN  24 inch bins          NaN         NaN    NaN  4/29/17   \n",
              "1  BALTIMORE  NaN  24 inch bins          NaN         NaN    NaN   5/6/17   \n",
              "2  BALTIMORE  NaN  24 inch bins  HOWDEN TYPE         NaN    NaN  9/24/16   \n",
              "3  BALTIMORE  NaN  24 inch bins  HOWDEN TYPE         NaN    NaN  9/24/16   \n",
              "4  BALTIMORE  NaN  24 inch bins  HOWDEN TYPE         NaN    NaN  11/5/16   \n",
              "\n",
              "   Low Price  High Price  Mostly Low  ...  Unit of Sale Quality Condition  \\\n",
              "0      270.0       280.0       270.0  ...           NaN     NaN       NaN   \n",
              "1      270.0       280.0       270.0  ...           NaN     NaN       NaN   \n",
              "2      160.0       160.0       160.0  ...           NaN     NaN       NaN   \n",
              "3      160.0       160.0       160.0  ...           NaN     NaN       NaN   \n",
              "4       90.0       100.0        90.0  ...           NaN     NaN       NaN   \n",
              "\n",
              "  Appearance Storage  Crop Repack  Trans Mode  Unnamed: 24  Unnamed: 25  \n",
              "0        NaN     NaN   NaN      E         NaN          NaN          NaN  \n",
              "1        NaN     NaN   NaN      E         NaN          NaN          NaN  \n",
              "2        NaN     NaN   NaN      N         NaN          NaN          NaN  \n",
              "3        NaN     NaN   NaN      N         NaN          NaN          NaN  \n",
              "4        NaN     NaN   NaN      N         NaN          NaN          NaN  \n",
              "\n",
              "[5 rows x 26 columns]"
            ]
          },
          "execution_count": 4,
          "metadata": {},
          "output_type": "execute_result"
        }
      ],
      "source": [
        "import pandas as pd\n",
        "import matplotlib.pyplot as plt\n",
        "import numpy as np\n",
        "from datetime import datetime\n",
        "\n",
        "pumpkins = pd.read_csv(\n",
        "    \"https://static-1300131294.cos.accelerate.myqcloud.com/data/us-pumpkins.csv\"\n",
        ")\n",
        "\n",
        "pumpkins.head()"
      ]
    },
    {
      "cell_type": "code",
      "execution_count": null,
      "id": "351f7c01",
      "metadata": {
        "attributes": {
          "classes": [
            "code-cell"
          ],
          "id": ""
        },
        "tags": [],
        "id": "351f7c01",
        "outputId": "f81a8892-5fe9-4d5c-916d-c713e075f336"
      },
      "outputs": [
        {
          "data": {
            "text/html": [
              "<div>\n",
              "<style scoped>\n",
              "    .dataframe tbody tr th:only-of-type {\n",
              "        vertical-align: middle;\n",
              "    }\n",
              "\n",
              "    .dataframe tbody tr th {\n",
              "        vertical-align: top;\n",
              "    }\n",
              "\n",
              "    .dataframe thead th {\n",
              "        text-align: right;\n",
              "    }\n",
              "</style>\n",
              "<table border=\"1\" class=\"dataframe\">\n",
              "  <thead>\n",
              "    <tr style=\"text-align: right;\">\n",
              "      <th></th>\n",
              "      <th>Month</th>\n",
              "      <th>DayOfYear</th>\n",
              "      <th>Variety</th>\n",
              "      <th>City</th>\n",
              "      <th>Package</th>\n",
              "      <th>Low Price</th>\n",
              "      <th>High Price</th>\n",
              "      <th>Price</th>\n",
              "    </tr>\n",
              "  </thead>\n",
              "  <tbody>\n",
              "    <tr>\n",
              "      <th>70</th>\n",
              "      <td>9</td>\n",
              "      <td>267</td>\n",
              "      <td>PIE TYPE</td>\n",
              "      <td>BALTIMORE</td>\n",
              "      <td>1 1/9 bushel cartons</td>\n",
              "      <td>15.0</td>\n",
              "      <td>15.0</td>\n",
              "      <td>13.636364</td>\n",
              "    </tr>\n",
              "    <tr>\n",
              "      <th>71</th>\n",
              "      <td>9</td>\n",
              "      <td>267</td>\n",
              "      <td>PIE TYPE</td>\n",
              "      <td>BALTIMORE</td>\n",
              "      <td>1 1/9 bushel cartons</td>\n",
              "      <td>18.0</td>\n",
              "      <td>18.0</td>\n",
              "      <td>16.363636</td>\n",
              "    </tr>\n",
              "    <tr>\n",
              "      <th>72</th>\n",
              "      <td>10</td>\n",
              "      <td>274</td>\n",
              "      <td>PIE TYPE</td>\n",
              "      <td>BALTIMORE</td>\n",
              "      <td>1 1/9 bushel cartons</td>\n",
              "      <td>18.0</td>\n",
              "      <td>18.0</td>\n",
              "      <td>16.363636</td>\n",
              "    </tr>\n",
              "    <tr>\n",
              "      <th>73</th>\n",
              "      <td>10</td>\n",
              "      <td>274</td>\n",
              "      <td>PIE TYPE</td>\n",
              "      <td>BALTIMORE</td>\n",
              "      <td>1 1/9 bushel cartons</td>\n",
              "      <td>17.0</td>\n",
              "      <td>17.0</td>\n",
              "      <td>15.454545</td>\n",
              "    </tr>\n",
              "    <tr>\n",
              "      <th>74</th>\n",
              "      <td>10</td>\n",
              "      <td>281</td>\n",
              "      <td>PIE TYPE</td>\n",
              "      <td>BALTIMORE</td>\n",
              "      <td>1 1/9 bushel cartons</td>\n",
              "      <td>15.0</td>\n",
              "      <td>15.0</td>\n",
              "      <td>13.636364</td>\n",
              "    </tr>\n",
              "  </tbody>\n",
              "</table>\n",
              "</div>"
            ],
            "text/plain": [
              "    Month  DayOfYear   Variety       City               Package  Low Price  \\\n",
              "70      9        267  PIE TYPE  BALTIMORE  1 1/9 bushel cartons       15.0   \n",
              "71      9        267  PIE TYPE  BALTIMORE  1 1/9 bushel cartons       18.0   \n",
              "72     10        274  PIE TYPE  BALTIMORE  1 1/9 bushel cartons       18.0   \n",
              "73     10        274  PIE TYPE  BALTIMORE  1 1/9 bushel cartons       17.0   \n",
              "74     10        281  PIE TYPE  BALTIMORE  1 1/9 bushel cartons       15.0   \n",
              "\n",
              "    High Price      Price  \n",
              "70        15.0  13.636364  \n",
              "71        18.0  16.363636  \n",
              "72        18.0  16.363636  \n",
              "73        17.0  15.454545  \n",
              "74        15.0  13.636364  "
            ]
          },
          "execution_count": 5,
          "metadata": {},
          "output_type": "execute_result"
        }
      ],
      "source": [
        "pumpkins = pumpkins[pumpkins[\"Package\"].str.contains(\"bushel\", case=True, regex=True)]\n",
        "\n",
        "new_columns = [\n",
        "    \"Package\",\n",
        "    \"Variety\",\n",
        "    \"City Name\",\n",
        "    \"Month\",\n",
        "    \"Low Price\",\n",
        "    \"High Price\",\n",
        "    \"Date\",\n",
        "]\n",
        "pumpkins = pumpkins.drop([c for c in pumpkins.columns if c not in new_columns], axis=1)\n",
        "\n",
        "price = (pumpkins[\"Low Price\"] + pumpkins[\"High Price\"]) / 2\n",
        "\n",
        "month = pd.DatetimeIndex(pumpkins[\"Date\"]).month\n",
        "day_of_year = pd.to_datetime(pumpkins[\"Date\"]).apply(\n",
        "    lambda dt: (dt - datetime(dt.year, 1, 1)).days\n",
        ")\n",
        "\n",
        "new_pumpkins = pd.DataFrame(\n",
        "    {\n",
        "        \"Month\": month,\n",
        "        \"DayOfYear\": day_of_year,\n",
        "        \"Variety\": pumpkins[\"Variety\"],\n",
        "        \"City\": pumpkins[\"City Name\"],\n",
        "        \"Package\": pumpkins[\"Package\"],\n",
        "        \"Low Price\": pumpkins[\"Low Price\"],\n",
        "        \"High Price\": pumpkins[\"High Price\"],\n",
        "        \"Price\": price,\n",
        "    }\n",
        ")\n",
        "\n",
        "new_pumpkins.loc[new_pumpkins[\"Package\"].str.contains(\"1 1/9\"), \"Price\"] = price / 1.1\n",
        "new_pumpkins.loc[new_pumpkins[\"Package\"].str.contains(\"1/2\"), \"Price\"] = price * 2\n",
        "\n",
        "new_pumpkins.head()"
      ]
    },
    {
      "cell_type": "markdown",
      "id": "75dff0fd",
      "metadata": {
        "tags": [],
        "id": "75dff0fd"
      },
      "source": [
        "A basic scatterplot reminds us that we only have monthly data from August through December. We probably need more data to be able to draw conclusions in a linear fashion."
      ]
    },
    {
      "cell_type": "code",
      "execution_count": null,
      "id": "62162c46",
      "metadata": {
        "attributes": {
          "classes": [
            "code-cell"
          ],
          "id": ""
        },
        "tags": [],
        "id": "62162c46",
        "outputId": "d79504e9-d760-4b53-c974-d6a61ce94060"
      },
      "outputs": [
        {
          "data": {
            "text/plain": [
              "<matplotlib.collections.PathCollection at 0x17f51a79160>"
            ]
          },
          "execution_count": 6,
          "metadata": {},
          "output_type": "execute_result"
        },
        {
          "data": {
            "image/png": "[encoded data removed]",
            "text/plain": [
              "<Figure size 640x480 with 1 Axes>"
            ]
          },
          "metadata": {},
          "output_type": "display_data"
        }
      ],
      "source": [
        "plt.scatter(\"Month\", \"Price\", data=new_pumpkins)"
      ]
    },
    {
      "cell_type": "markdown",
      "id": "025f014e",
      "metadata": {
        "tags": [],
        "id": "025f014e"
      },
      "source": [
        ":::{note}\n",
        "We have performed the same cleaning steps as in the previous section, and have calculated `DayOfYear` column using the following expression:\n",
        ":::"
      ]
    },
    {
      "cell_type": "code",
      "execution_count": null,
      "id": "bc1d5493",
      "metadata": {
        "attributes": {
          "classes": [
            "code-cell"
          ],
          "id": ""
        },
        "tags": [],
        "id": "bc1d5493"
      },
      "outputs": [],
      "source": [
        "day_of_year = pd.to_datetime(pumpkins[\"Date\"]).apply(\n",
        "    lambda dt: (dt - datetime(dt.year, 1, 1)).days\n",
        ")"
      ]
    },
    {
      "cell_type": "markdown",
      "id": "83b08051",
      "metadata": {
        "tags": [],
        "id": "83b08051"
      },
      "source": [
        "Now that we have an understanding of the math behind linear regression, let's create a Regression model to see if we can predict which package of pumpkins will have the best pumpkin prices. Someone buying pumpkins for a holiday pumpkin patch might want this information to be able to optimize their purchases of pumpkin packages for the patch.\n",
        "\n",
        "## Looking for Correlation\n",
        "\n",
        "From the previous section, we have probably seen that the average price for different months looks like this:\n",
        "\n",
        ":::{figure} https://static-1300131294.cos.ap-shanghai.myqcloud.com/images/ml-regression/barchart.png\n",
        "---\n",
        "name: 'Average price by month'\n",
        "width: 70%\n",
        "---\n",
        "Average price by month{cite}`Average_price_by_month`\n",
        ":::\n",
        "\n",
        "This suggests that there should be some correlation, and we can try training a linear regression model to predict the relationship between `Month` and `Price`, or between `DayOfYear` and `Price`. Here is the scatter plot that shows the latter relationship:\n",
        "\n",
        ":::{figure} https://static-1300131294.cos.ap-shanghai.myqcloud.com/images/ml-regression/scatter-dayofyear.png\n",
        "---\n",
        "name: 'Scatter plot of Price vs. Day of Year'\n",
        "width: 70%\n",
        "---\n",
        "Scatter plot of Price vs. Day of Year{cite}`Scatter_plot_of_Price_vs._Day_of_Year`\n",
        ":::\n",
        "\n",
        "It looks like there are different clusters of prices corresponding to different pumpkin varieties. To confirm this hypothesis, let's plot each pumpkin category using a different color. By passing an `ax` parameter to the `scatter` plotting function we can plot all points on the same graph:"
      ]
    },
    {
      "cell_type": "code",
      "execution_count": null,
      "id": "9864740b",
      "metadata": {
        "attributes": {
          "classes": [
            "code-cell"
          ],
          "id": ""
        },
        "tags": [],
        "id": "9864740b",
        "outputId": "0d24c409-2687-401c-fb50-2b5f2657d4ef"
      },
      "outputs": [
        {
          "data": {
            "image/png": "[encoded data removed]",
            "text/plain": [
              "<Figure size 640x480 with 1 Axes>"
            ]
          },
          "metadata": {},
          "output_type": "display_data"
        }
      ],
      "source": [
        "ax=None\n",
        "colors = ['red','blue','green','yellow']\n",
        "for i,var in enumerate(new_pumpkins['Variety'].unique()):\n",
        "    df = new_pumpkins[new_pumpkins['Variety']==var]\n",
        "    ax = df.plot.scatter('DayOfYear','Price',ax=ax,c=colors[i],label=var)"
      ]
    },
    {
      "cell_type": "markdown",
      "id": "f6bb5fa9",
      "metadata": {
        "tags": [],
        "id": "f6bb5fa9"
      },
      "source": [
        "Our investigation suggests that variety has more effect on the overall price than the actual selling date. So let us focus for the moment only on one pumpkin variety, and see what effect the date has on the price:"
      ]
    },
    {
      "cell_type": "code",
      "execution_count": null,
      "id": "115f94ab",
      "metadata": {
        "attributes": {
          "classes": [
            "code-cell"
          ],
          "id": ""
        },
        "tags": [],
        "id": "115f94ab",
        "outputId": "4bbdb100-1e3b-454c-df96-068e42e7863e"
      },
      "outputs": [
        {
          "data": {
            "text/plain": [
              "<Axes: xlabel='DayOfYear', ylabel='Price'>"
            ]
          },
          "execution_count": 9,
          "metadata": {},
          "output_type": "execute_result"
        },
        {
          "data": {
            "image/png": "[encoded data removed]",
            "text/plain": [
              "<Figure size 640x480 with 1 Axes>"
            ]
          },
          "metadata": {},
          "output_type": "display_data"
        }
      ],
      "source": [
        "pie_pumpkins = new_pumpkins[new_pumpkins[\"Variety\"] == \"PIE TYPE\"]\n",
        "pie_pumpkins.plot.scatter(\"DayOfYear\", \"Price\")"
      ]
    },
    {
      "cell_type": "markdown",
      "id": "2527b9e5",
      "metadata": {
        "tags": [],
        "id": "2527b9e5"
      },
      "source": [
        "If we now calculate the correlation between `Price` and `DayOfYear` using `corr` function, we will get something like `-0.27` - which means that training a predictive model makes sense.\n",
        "\n",
        ":::{note}\n",
        "Before training a linear regression model, it is important to make sure that our data is clean. Linear regression does not work well with missing values, thus it makes sense to get rid of all empty cells:\n",
        ":::"
      ]
    },
    {
      "cell_type": "code",
      "execution_count": null,
      "id": "242febdf",
      "metadata": {
        "attributes": {
          "classes": [
            "code-cell"
          ],
          "id": ""
        },
        "tags": [],
        "id": "242febdf",
        "outputId": "14c25662-4d8b-41e1-8ca7-eaeff4d8dba4"
      },
      "outputs": [
        {
          "name": "stdout",
          "output_type": "stream",
          "text": [
            "<class 'pandas.core.frame.DataFrame'>\n",
            "Int64Index: 144 entries, 70 to 1630\n",
            "Data columns (total 8 columns):\n",
            " #   Column      Non-Null Count  Dtype  \n",
            "---  ------      --------------  -----  \n",
            " 0   Month       144 non-null    int64  \n",
            " 1   DayOfYear   144 non-null    int64  \n",
            " 2   Variety     144 non-null    object \n",
            " 3   City        144 non-null    object \n",
            " 4   Package     144 non-null    object \n",
            " 5   Low Price   144 non-null    float64\n",
            " 6   High Price  144 non-null    float64\n",
            " 7   Price       144 non-null    float64\n",
            "dtypes: float64(3), int64(2), object(3)\n",
            "memory usage: 10.1+ KB\n"
          ]
        }
      ],
      "source": [
        "pie_pumpkins = pie_pumpkins.dropna()\n",
        "pie_pumpkins.info()"
      ]
    },
    {
      "cell_type": "markdown",
      "id": "92709a1f",
      "metadata": {
        "tags": [],
        "id": "92709a1f"
      },
      "source": [
        "Another approach would be to fill those empty values with mean values from the corresponding column.\n",
        "\n",
        "## Simple Linear Regression\n",
        "\n",
        "To train our Linear Regression model, we will use the **Scikit-learn** library."
      ]
    },
    {
      "cell_type": "code",
      "execution_count": null,
      "id": "c3d17ae6",
      "metadata": {
        "attributes": {
          "classes": [
            "code-cell"
          ],
          "id": ""
        },
        "tags": [],
        "id": "c3d17ae6"
      },
      "outputs": [],
      "source": [
        "from sklearn.linear_model import LinearRegression\n",
        "from sklearn.metrics import mean_squared_error\n",
        "from sklearn.model_selection import train_test_split"
      ]
    },
    {
      "cell_type": "markdown",
      "id": "02c3a570",
      "metadata": {
        "tags": [],
        "id": "02c3a570"
      },
      "source": [
        "We start by separating input values (features) and the expected output (label) into separate NumPy arrays:"
      ]
    },
    {
      "cell_type": "code",
      "execution_count": null,
      "id": "8a96563a",
      "metadata": {
        "attributes": {
          "classes": [
            "code-cell"
          ],
          "id": ""
        },
        "tags": [],
        "id": "8a96563a"
      },
      "outputs": [],
      "source": [
        "X = pie_pumpkins[\"DayOfYear\"].to_numpy().reshape(-1, 1)\n",
        "y = pie_pumpkins[\"Price\"]"
      ]
    },
    {
      "cell_type": "markdown",
      "id": "6bfab9bb",
      "metadata": {
        "tags": [],
        "id": "6bfab9bb"
      },
      "source": [
        ":::{note}\n",
        "Note that we had to perform `reshape` on the input data in order for the Linear Regression package to understand it correctly. Linear Regression expects a 2D-array as an input, where each row of the array corresponds to a vector of input features. In our case, since we have only one input - we need an array with shape N&times;1, where N is the dataset size.\n",
        ":::\n",
        "\n",
        "Then, we need to split the data into train and test datasets, so that we can validate our model after training:"
      ]
    },
    {
      "cell_type": "code",
      "execution_count": null,
      "id": "63a5c90e",
      "metadata": {
        "attributes": {
          "classes": [
            "code-cell"
          ],
          "id": ""
        },
        "tags": [],
        "id": "63a5c90e"
      },
      "outputs": [],
      "source": [
        "X_train, X_test, y_train, y_test = train_test_split(X, y, test_size=0.2, random_state=0)"
      ]
    },
    {
      "cell_type": "markdown",
      "id": "975937b9",
      "metadata": {
        "tags": [],
        "id": "975937b9"
      },
      "source": [
        "Finally, training the actual Linear Regression model takes only two lines of code. We define the `LinearRegression` object, and fit it to our data using the `fit` method:"
      ]
    },
    {
      "cell_type": "code",
      "execution_count": null,
      "id": "cc303abf",
      "metadata": {
        "attributes": {
          "classes": [
            "code-cell"
          ],
          "id": ""
        },
        "tags": [],
        "id": "cc303abf",
        "outputId": "fe13ee27-35c8-489c-fa35-e69b9e93f7f3"
      },
      "outputs": [
        {
          "data": {
            "text/html": [
              "<style>#sk-container-id-1 {color: black;background-color: white;}#sk-container-id-1 pre{padding: 0;}#sk-container-id-1 div.sk-toggleable {background-color: white;}#sk-container-id-1 label.sk-toggleable__label {cursor: pointer;display: block;width: 100%;margin-bottom: 0;padding: 0.3em;box-sizing: border-box;text-align: center;}#sk-container-id-1 label.sk-toggleable__label-arrow:before {content: \"▸\";float: left;margin-right: 0.25em;color: #696969;}#sk-container-id-1 label.sk-toggleable__label-arrow:hover:before {color: black;}#sk-container-id-1 div.sk-estimator:hover label.sk-toggleable__label-arrow:before {color: black;}#sk-container-id-1 div.sk-toggleable__content {max-height: 0;max-width: 0;overflow: hidden;text-align: left;background-color: #f0f8ff;}#sk-container-id-1 div.sk-toggleable__content pre {margin: 0.2em;color: black;border-radius: 0.25em;background-color: #f0f8ff;}#sk-container-id-1 input.sk-toggleable__control:checked~div.sk-toggleable__content {max-height: 200px;max-width: 100%;overflow: auto;}#sk-container-id-1 input.sk-toggleable__control:checked~label.sk-toggleable__label-arrow:before {content: \"▾\";}#sk-container-id-1 div.sk-estimator input.sk-toggleable__control:checked~label.sk-toggleable__label {background-color: #d4ebff;}#sk-container-id-1 div.sk-label input.sk-toggleable__control:checked~label.sk-toggleable__label {background-color: #d4ebff;}#sk-container-id-1 input.sk-hidden--visually {border: 0;clip: rect(1px 1px 1px 1px);clip: rect(1px, 1px, 1px, 1px);height: 1px;margin: -1px;overflow: hidden;padding: 0;position: absolute;width: 1px;}#sk-container-id-1 div.sk-estimator {font-family: monospace;background-color: #f0f8ff;border: 1px dotted black;border-radius: 0.25em;box-sizing: border-box;margin-bottom: 0.5em;}#sk-container-id-1 div.sk-estimator:hover {background-color: #d4ebff;}#sk-container-id-1 div.sk-parallel-item::after {content: \"\";width: 100%;border-bottom: 1px solid gray;flex-grow: 1;}#sk-container-id-1 div.sk-label:hover label.sk-toggleable__label {background-color: #d4ebff;}#sk-container-id-1 div.sk-serial::before {content: \"\";position: absolute;border-left: 1px solid gray;box-sizing: border-box;top: 0;bottom: 0;left: 50%;z-index: 0;}#sk-container-id-1 div.sk-serial {display: flex;flex-direction: column;align-items: center;background-color: white;padding-right: 0.2em;padding-left: 0.2em;position: relative;}#sk-container-id-1 div.sk-item {position: relative;z-index: 1;}#sk-container-id-1 div.sk-parallel {display: flex;align-items: stretch;justify-content: center;background-color: white;position: relative;}#sk-container-id-1 div.sk-item::before, #sk-container-id-1 div.sk-parallel-item::before {content: \"\";position: absolute;border-left: 1px solid gray;box-sizing: border-box;top: 0;bottom: 0;left: 50%;z-index: -1;}#sk-container-id-1 div.sk-parallel-item {display: flex;flex-direction: column;z-index: 1;position: relative;background-color: white;}#sk-container-id-1 div.sk-parallel-item:first-child::after {align-self: flex-end;width: 50%;}#sk-container-id-1 div.sk-parallel-item:last-child::after {align-self: flex-start;width: 50%;}#sk-container-id-1 div.sk-parallel-item:only-child::after {width: 0;}#sk-container-id-1 div.sk-dashed-wrapped {border: 1px dashed gray;margin: 0 0.4em 0.5em 0.4em;box-sizing: border-box;padding-bottom: 0.4em;background-color: white;}#sk-container-id-1 div.sk-label label {font-family: monospace;font-weight: bold;display: inline-block;line-height: 1.2em;}#sk-container-id-1 div.sk-label-container {text-align: center;}#sk-container-id-1 div.sk-container {/* jupyter's `normalize.less` sets `[hidden] { display: none; }` but bootstrap.min.css set `[hidden] { display: none !important; }` so we also need the `!important` here to be able to override the default hidden behavior on the sphinx rendered scikit-learn.org. See: https://github.com/scikit-learn/scikit-learn/issues/21755 */display: inline-block !important;position: relative;}#sk-container-id-1 div.sk-text-repr-fallback {display: none;}</style><div id=\"sk-container-id-1\" class=\"sk-top-container\"><div class=\"sk-text-repr-fallback\"><pre>LinearRegression()</pre><b>In a Jupyter environment, please rerun this cell to show the HTML representation or trust the notebook. <br />On GitHub, the HTML representation is unable to render, please try loading this page with nbviewer.org.</b></div><div class=\"sk-container\" hidden><div class=\"sk-item\"><div class=\"sk-estimator sk-toggleable\"><input class=\"sk-toggleable__control sk-hidden--visually\" id=\"sk-estimator-id-1\" type=\"checkbox\" checked><label for=\"sk-estimator-id-1\" class=\"sk-toggleable__label sk-toggleable__label-arrow\">LinearRegression</label><div class=\"sk-toggleable__content\"><pre>LinearRegression()</pre></div></div></div></div></div>"
            ],
            "text/plain": [
              "LinearRegression()"
            ]
          },
          "execution_count": 14,
          "metadata": {},
          "output_type": "execute_result"
        }
      ],
      "source": [
        "lin_reg = LinearRegression()\n",
        "lin_reg.fit(X_train, y_train)"
      ]
    },
    {
      "cell_type": "markdown",
      "id": "4c93426e",
      "metadata": {
        "tags": [],
        "id": "4c93426e"
      },
      "source": [
        "The `LinearRegression` object after `fit`-ting contains all the coefficients of the regression, which can be accessed using `.coef_` property. In our case, there is just one coefficient, which should be around `-0.017`. It means that prices seem to drop a bit with time, but not too much, around 2 cents per day. We can also access the intersection point of the regression with the Y-axis using `lin_reg`.intercept_` - it will be around `21` in our case, indicating the price at the beginning of the year.\n",
        "\n",
        "To see how accurate our model is, we can predict prices on a test dataset, and then measure how close our predictions are to the expected values. This can be done using mean square error (MSE) metrics, which is the mean of all squared differences between expected and predicted values."
      ]
    },
    {
      "cell_type": "code",
      "execution_count": null,
      "id": "cd436fa3",
      "metadata": {
        "attributes": {
          "classes": [
            "code-cell"
          ],
          "id": ""
        },
        "tags": [],
        "id": "cd436fa3",
        "outputId": "095825f0-e74b-42fc-b310-5ba39b43253b"
      },
      "outputs": [
        {
          "name": "stdout",
          "output_type": "stream",
          "text": [
            "Mean error: 2.77 (17.2%)\n"
          ]
        }
      ],
      "source": [
        "pred = lin_reg.predict(X_test)\n",
        "\n",
        "mse = np.sqrt(mean_squared_error(y_test, pred))\n",
        "print(f\"Mean error: {mse:3.3} ({mse/np.mean(pred)*100:3.3}%)\")"
      ]
    },
    {
      "cell_type": "markdown",
      "id": "43014d87",
      "metadata": {
        "tags": [],
        "id": "43014d87"
      },
      "source": [
        "Our error seems to be around 2 points, which is ~17%. Not too good. Another indicator of model quality is the **coefficient of determination**, which can be obtained like this:"
      ]
    },
    {
      "cell_type": "code",
      "execution_count": null,
      "id": "2803d5e1",
      "metadata": {
        "attributes": {
          "classes": [
            "code-cell"
          ],
          "id": ""
        },
        "tags": [],
        "id": "2803d5e1",
        "outputId": "7813cd80-9b55-40f0-f458-c41d748458a0"
      },
      "outputs": [
        {
          "name": "stdout",
          "output_type": "stream",
          "text": [
            "Model determination:  0.04460606335028361\n"
          ]
        }
      ],
      "source": [
        "score = lin_reg.score(X_train, y_train)\n",
        "print(\"Model determination: \", score)"
      ]
    },
    {
      "cell_type": "markdown",
      "id": "d64ea140",
      "metadata": {
        "tags": [],
        "id": "d64ea140"
      },
      "source": [
        "If the value is 0, it means that the model does not take input data into account, and acts as the *worst linear predictor*, which is simply a mean value of the result. The value of 1 means that we can perfectly predict all expected outputs. In our case, the coefficient is around 0.06, which is quite low.\n",
        "\n",
        "We can also plot the test data together with the regression line to better see how regression works in our case:"
      ]
    },
    {
      "cell_type": "code",
      "execution_count": null,
      "id": "337d38c5",
      "metadata": {
        "attributes": {
          "classes": [
            "code-cell"
          ],
          "id": ""
        },
        "tags": [],
        "id": "337d38c5",
        "outputId": "9f613be3-1000-4736-ef31-bc9cdb743525"
      },
      "outputs": [
        {
          "data": {
            "text/plain": [
              "[<matplotlib.lines.Line2D at 0x17f54f36ac0>]"
            ]
          },
          "execution_count": 17,
          "metadata": {},
          "output_type": "execute_result"
        },
        {
          "data": {
            "image/png": "[encoded data removed]",
            "text/plain": [
              "<Figure size 640x480 with 1 Axes>"
            ]
          },
          "metadata": {},
          "output_type": "display_data"
        }
      ],
      "source": [
        "plt.scatter(X_test, y_test)\n",
        "plt.plot(X_test, pred)"
      ]
    },
    {
      "cell_type": "markdown",
      "id": "9f93331c",
      "metadata": {
        "id": "9f93331c"
      },
      "source": [
        "## Polynomial Regression"
      ]
    },
    {
      "cell_type": "markdown",
      "id": "7d7f9463",
      "metadata": {
        "id": "7d7f9463"
      },
      "source": [
        "<p style=\"text-align: center;\">\n",
        "<iframe src=\"https://static-1300131294.cos.ap-shanghai.myqcloud.com/html/polynomial-regression-demo/simulation.html\" width=\"105%\" height=\"900px;\"\n",
        "style=\"border:none;\" scrolling=\"auto\"></iframe>\n",
        "A demo of logistic-regression. <a href=\"https://visualize-it.github.io/polynomial_regression/simulation.html\"> [source]</a >\n",
        "</p >"
      ]
    },
    {
      "cell_type": "markdown",
      "id": "c2831e2f",
      "metadata": {
        "tags": [],
        "id": "c2831e2f"
      },
      "source": [
        "Another type of Linear Regression is Polynomial Regression. While sometimes there's a linear relationship between variables - the bigger the pumpkin in volume, the higher the price - sometimes these relationships can't be plotted as a plane or straight line.\n",
        "\n",
        ":::{seealso}\n",
        "Here are [some more examples](https://online.stat.psu.edu/stat501/lesson/9/9.8) of data that could use Polynomial Regression\n",
        ":::\n",
        "\n",
        "Take another look at the relationship between Date and Price. Does this scatterplot seem like it should necessarily be analyzed by a straight line? Can't prices fluctuate? In this case, we can try polynomial regression.\n",
        "\n",
        ":::{note}\n",
        "Polynomials are mathematical expressions that might consist of one or more variables and coefficients.\n",
        ":::\n",
        "\n",
        "Polynomial regression creates a curved line to better fit nonlinear data. In our case, if we include a squared `DayOfYear` variable in input data, we should be able to fit our data with a parabolic curve, which will have a minimum at a certain point within the year.\n",
        "\n",
        "Scikit-learn includes a helpful [pipeline API](https://scikit-learn.org/stable/modules/generated/sklearn.pipeline.make_pipeline.html?highlight=pipeline#sklearn.pipeline.make_pipeline) to combine different steps of data processing together. A **pipeline** is a chain of **estimators**. In our case, we will create a pipeline that first adds polynomial features to our model, and then trains the regression:"
      ]
    },
    {
      "cell_type": "code",
      "execution_count": null,
      "id": "bf0c99b8",
      "metadata": {
        "attributes": {
          "classes": [
            "code-cell"
          ],
          "id": ""
        },
        "tags": [],
        "id": "bf0c99b8",
        "outputId": "0458b012-5a05-4afb-afee-0c5e29936920"
      },
      "outputs": [
        {
          "data": {
            "text/html": [
              "<style>#sk-container-id-2 {color: black;background-color: white;}#sk-container-id-2 pre{padding: 0;}#sk-container-id-2 div.sk-toggleable {background-color: white;}#sk-container-id-2 label.sk-toggleable__label {cursor: pointer;display: block;width: 100%;margin-bottom: 0;padding: 0.3em;box-sizing: border-box;text-align: center;}#sk-container-id-2 label.sk-toggleable__label-arrow:before {content: \"▸\";float: left;margin-right: 0.25em;color: #696969;}#sk-container-id-2 label.sk-toggleable__label-arrow:hover:before {color: black;}#sk-container-id-2 div.sk-estimator:hover label.sk-toggleable__label-arrow:before {color: black;}#sk-container-id-2 div.sk-toggleable__content {max-height: 0;max-width: 0;overflow: hidden;text-align: left;background-color: #f0f8ff;}#sk-container-id-2 div.sk-toggleable__content pre {margin: 0.2em;color: black;border-radius: 0.25em;background-color: #f0f8ff;}#sk-container-id-2 input.sk-toggleable__control:checked~div.sk-toggleable__content {max-height: 200px;max-width: 100%;overflow: auto;}#sk-container-id-2 input.sk-toggleable__control:checked~label.sk-toggleable__label-arrow:before {content: \"▾\";}#sk-container-id-2 div.sk-estimator input.sk-toggleable__control:checked~label.sk-toggleable__label {background-color: #d4ebff;}#sk-container-id-2 div.sk-label input.sk-toggleable__control:checked~label.sk-toggleable__label {background-color: #d4ebff;}#sk-container-id-2 input.sk-hidden--visually {border: 0;clip: rect(1px 1px 1px 1px);clip: rect(1px, 1px, 1px, 1px);height: 1px;margin: -1px;overflow: hidden;padding: 0;position: absolute;width: 1px;}#sk-container-id-2 div.sk-estimator {font-family: monospace;background-color: #f0f8ff;border: 1px dotted black;border-radius: 0.25em;box-sizing: border-box;margin-bottom: 0.5em;}#sk-container-id-2 div.sk-estimator:hover {background-color: #d4ebff;}#sk-container-id-2 div.sk-parallel-item::after {content: \"\";width: 100%;border-bottom: 1px solid gray;flex-grow: 1;}#sk-container-id-2 div.sk-label:hover label.sk-toggleable__label {background-color: #d4ebff;}#sk-container-id-2 div.sk-serial::before {content: \"\";position: absolute;border-left: 1px solid gray;box-sizing: border-box;top: 0;bottom: 0;left: 50%;z-index: 0;}#sk-container-id-2 div.sk-serial {display: flex;flex-direction: column;align-items: center;background-color: white;padding-right: 0.2em;padding-left: 0.2em;position: relative;}#sk-container-id-2 div.sk-item {position: relative;z-index: 1;}#sk-container-id-2 div.sk-parallel {display: flex;align-items: stretch;justify-content: center;background-color: white;position: relative;}#sk-container-id-2 div.sk-item::before, #sk-container-id-2 div.sk-parallel-item::before {content: \"\";position: absolute;border-left: 1px solid gray;box-sizing: border-box;top: 0;bottom: 0;left: 50%;z-index: -1;}#sk-container-id-2 div.sk-parallel-item {display: flex;flex-direction: column;z-index: 1;position: relative;background-color: white;}#sk-container-id-2 div.sk-parallel-item:first-child::after {align-self: flex-end;width: 50%;}#sk-container-id-2 div.sk-parallel-item:last-child::after {align-self: flex-start;width: 50%;}#sk-container-id-2 div.sk-parallel-item:only-child::after {width: 0;}#sk-container-id-2 div.sk-dashed-wrapped {border: 1px dashed gray;margin: 0 0.4em 0.5em 0.4em;box-sizing: border-box;padding-bottom: 0.4em;background-color: white;}#sk-container-id-2 div.sk-label label {font-family: monospace;font-weight: bold;display: inline-block;line-height: 1.2em;}#sk-container-id-2 div.sk-label-container {text-align: center;}#sk-container-id-2 div.sk-container {/* jupyter's `normalize.less` sets `[hidden] { display: none; }` but bootstrap.min.css set `[hidden] { display: none !important; }` so we also need the `!important` here to be able to override the default hidden behavior on the sphinx rendered scikit-learn.org. See: https://github.com/scikit-learn/scikit-learn/issues/21755 */display: inline-block !important;position: relative;}#sk-container-id-2 div.sk-text-repr-fallback {display: none;}</style><div id=\"sk-container-id-2\" class=\"sk-top-container\"><div class=\"sk-text-repr-fallback\"><pre>Pipeline(steps=[(&#x27;polynomialfeatures&#x27;, PolynomialFeatures()),\n",
              "                (&#x27;linearregression&#x27;, LinearRegression())])</pre><b>In a Jupyter environment, please rerun this cell to show the HTML representation or trust the notebook. <br />On GitHub, the HTML representation is unable to render, please try loading this page with nbviewer.org.</b></div><div class=\"sk-container\" hidden><div class=\"sk-item sk-dashed-wrapped\"><div class=\"sk-label-container\"><div class=\"sk-label sk-toggleable\"><input class=\"sk-toggleable__control sk-hidden--visually\" id=\"sk-estimator-id-2\" type=\"checkbox\" ><label for=\"sk-estimator-id-2\" class=\"sk-toggleable__label sk-toggleable__label-arrow\">Pipeline</label><div class=\"sk-toggleable__content\"><pre>Pipeline(steps=[(&#x27;polynomialfeatures&#x27;, PolynomialFeatures()),\n",
              "                (&#x27;linearregression&#x27;, LinearRegression())])</pre></div></div></div><div class=\"sk-serial\"><div class=\"sk-item\"><div class=\"sk-estimator sk-toggleable\"><input class=\"sk-toggleable__control sk-hidden--visually\" id=\"sk-estimator-id-3\" type=\"checkbox\" ><label for=\"sk-estimator-id-3\" class=\"sk-toggleable__label sk-toggleable__label-arrow\">PolynomialFeatures</label><div class=\"sk-toggleable__content\"><pre>PolynomialFeatures()</pre></div></div></div><div class=\"sk-item\"><div class=\"sk-estimator sk-toggleable\"><input class=\"sk-toggleable__control sk-hidden--visually\" id=\"sk-estimator-id-4\" type=\"checkbox\" ><label for=\"sk-estimator-id-4\" class=\"sk-toggleable__label sk-toggleable__label-arrow\">LinearRegression</label><div class=\"sk-toggleable__content\"><pre>LinearRegression()</pre></div></div></div></div></div></div></div>"
            ],
            "text/plain": [
              "Pipeline(steps=[('polynomialfeatures', PolynomialFeatures()),\n",
              "                ('linearregression', LinearRegression())])"
            ]
          },
          "execution_count": 18,
          "metadata": {},
          "output_type": "execute_result"
        }
      ],
      "source": [
        "from sklearn.preprocessing import PolynomialFeatures\n",
        "from sklearn.pipeline import make_pipeline\n",
        "\n",
        "pipeline = make_pipeline(PolynomialFeatures(2), LinearRegression())\n",
        "\n",
        "pipeline.fit(X_train, y_train)"
      ]
    },
    {
      "cell_type": "markdown",
      "id": "5181be18",
      "metadata": {
        "tags": [],
        "id": "5181be18"
      },
      "source": [
        "Using `PolynomialFeatures(2)` means that we will include all second-degree polynomials from the input data. In our case, it will just mean $DayOfYear^2$, but given two input variables X and Y, this will add $X^2$, XY and $Y^2$. We may also use higher-degree polynomials if we want.\n",
        "\n",
        "Pipelines can be used in the same manner as the original `LinearRegression` object, i.e. we can `fit` the pipeline, and then use `predict` to get the prediction results. Here is the graph showing test data, and the approximation curve:\n",
        "\n",
        ":::{figure} https://static-1300131294.cos.ap-shanghai.myqcloud.com/images/ml-regression/poly-results.png\n",
        "---\n",
        "name: 'Polynomial regression'\n",
        "width: 70%\n",
        "---\n",
        "Polynomial regression{cite}`Polynomial_regression`\n",
        ":::\n",
        "\n",
        "Using Polynomial Regression, we can get slightly lower MSE and higher determination, but not significantly. We need to take into account other features!\n",
        "\n",
        ":::{seealso}\n",
        "We can see that the minimal pumpkin prices are observed somewhere around Halloween. How can we explain this?\n",
        ":::\n",
        "\n",
        "🎃 Congratulations, we just created a model that can help predict the price of pie pumpkins. We can probably repeat the same procedure for all pumpkin types, but that would be tedious. Let's learn now how to take pumpkin variety into account in our model!\n",
        "\n",
        "## Categorical Features\n",
        "\n",
        "In the ideal world, we want to be able to predict prices for different pumpkin varieties using the same model. However, the `Variety` column is somewhat different from columns like `Month`, because it contains non-numeric values. Such columns are called **categorical**.\n",
        "\n",
        "Here we can see how the average price depends on variety:\n",
        "\n",
        ":::{figure} https://static-1300131294.cos.ap-shanghai.myqcloud.com/images/ml-regression/price-by-variety.png\n",
        "---\n",
        "name: 'Average price by variety'\n",
        "width: 70%\n",
        "---\n",
        "Average price by variety{cite}`Average_price_by_variety`\n",
        ":::\n",
        "\n",
        "To take variety into account, we first need to convert it to numeric form or **encode**** it. There are several ways we can do it:\n",
        "\n",
        "* Simple **numeric encoding** will build a table of different varieties, and then replace the variety name by an index in that table. This is not the best idea for linear regression, because linear regression takes the actual numeric value of the index, and adds it to the result, multiplying by some coefficient. In our case, the relationship between the index number and the price is clearly non-linear, even if we make sure that indices are ordered in some specific way.\n",
        "* **One-hot encoding** will replace the `Variety` column by 4 different columns, one for each variety. Each column will contain `1` if the corresponding row is of a given variety and `0`` otherwise. This means that there will be four coefficients in linear regression, one for each pumpkin variety, responsible for the \"starting price\" (or rather \"additional price\") for that particular variety.\n",
        "\n",
        "The code below shows how we can one-hot encode a variety:"
      ]
    },
    {
      "cell_type": "code",
      "execution_count": null,
      "id": "246bfdd0",
      "metadata": {
        "attributes": {
          "classes": [
            "code-cell"
          ],
          "id": ""
        },
        "tags": [],
        "id": "246bfdd0",
        "outputId": "2d456efa-0d5a-4033-fb39-046ecb32a32b"
      },
      "outputs": [
        {
          "data": {
            "text/html": [
              "<div>\n",
              "<style scoped>\n",
              "    .dataframe tbody tr th:only-of-type {\n",
              "        vertical-align: middle;\n",
              "    }\n",
              "\n",
              "    .dataframe tbody tr th {\n",
              "        vertical-align: top;\n",
              "    }\n",
              "\n",
              "    .dataframe thead th {\n",
              "        text-align: right;\n",
              "    }\n",
              "</style>\n",
              "<table border=\"1\" class=\"dataframe\">\n",
              "  <thead>\n",
              "    <tr style=\"text-align: right;\">\n",
              "      <th></th>\n",
              "      <th>FAIRYTALE</th>\n",
              "      <th>MINIATURE</th>\n",
              "      <th>MIXED HEIRLOOM VARIETIES</th>\n",
              "      <th>PIE TYPE</th>\n",
              "    </tr>\n",
              "  </thead>\n",
              "  <tbody>\n",
              "    <tr>\n",
              "      <th>70</th>\n",
              "      <td>0</td>\n",
              "      <td>0</td>\n",
              "      <td>0</td>\n",
              "      <td>1</td>\n",
              "    </tr>\n",
              "    <tr>\n",
              "      <th>71</th>\n",
              "      <td>0</td>\n",
              "      <td>0</td>\n",
              "      <td>0</td>\n",
              "      <td>1</td>\n",
              "    </tr>\n",
              "    <tr>\n",
              "      <th>72</th>\n",
              "      <td>0</td>\n",
              "      <td>0</td>\n",
              "      <td>0</td>\n",
              "      <td>1</td>\n",
              "    </tr>\n",
              "    <tr>\n",
              "      <th>73</th>\n",
              "      <td>0</td>\n",
              "      <td>0</td>\n",
              "      <td>0</td>\n",
              "      <td>1</td>\n",
              "    </tr>\n",
              "    <tr>\n",
              "      <th>74</th>\n",
              "      <td>0</td>\n",
              "      <td>0</td>\n",
              "      <td>0</td>\n",
              "      <td>1</td>\n",
              "    </tr>\n",
              "    <tr>\n",
              "      <th>...</th>\n",
              "      <td>...</td>\n",
              "      <td>...</td>\n",
              "      <td>...</td>\n",
              "      <td>...</td>\n",
              "    </tr>\n",
              "    <tr>\n",
              "      <th>1738</th>\n",
              "      <td>0</td>\n",
              "      <td>1</td>\n",
              "      <td>0</td>\n",
              "      <td>0</td>\n",
              "    </tr>\n",
              "    <tr>\n",
              "      <th>1739</th>\n",
              "      <td>0</td>\n",
              "      <td>1</td>\n",
              "      <td>0</td>\n",
              "      <td>0</td>\n",
              "    </tr>\n",
              "    <tr>\n",
              "      <th>1740</th>\n",
              "      <td>0</td>\n",
              "      <td>1</td>\n",
              "      <td>0</td>\n",
              "      <td>0</td>\n",
              "    </tr>\n",
              "    <tr>\n",
              "      <th>1741</th>\n",
              "      <td>0</td>\n",
              "      <td>1</td>\n",
              "      <td>0</td>\n",
              "      <td>0</td>\n",
              "    </tr>\n",
              "    <tr>\n",
              "      <th>1742</th>\n",
              "      <td>0</td>\n",
              "      <td>1</td>\n",
              "      <td>0</td>\n",
              "      <td>0</td>\n",
              "    </tr>\n",
              "  </tbody>\n",
              "</table>\n",
              "<p>415 rows × 4 columns</p>\n",
              "</div>"
            ],
            "text/plain": [
              "      FAIRYTALE  MINIATURE  MIXED HEIRLOOM VARIETIES  PIE TYPE\n",
              "70            0          0                         0         1\n",
              "71            0          0                         0         1\n",
              "72            0          0                         0         1\n",
              "73            0          0                         0         1\n",
              "74            0          0                         0         1\n",
              "...         ...        ...                       ...       ...\n",
              "1738          0          1                         0         0\n",
              "1739          0          1                         0         0\n",
              "1740          0          1                         0         0\n",
              "1741          0          1                         0         0\n",
              "1742          0          1                         0         0\n",
              "\n",
              "[415 rows x 4 columns]"
            ]
          },
          "execution_count": 19,
          "metadata": {},
          "output_type": "execute_result"
        }
      ],
      "source": [
        "pd.get_dummies(new_pumpkins[\"Variety\"])"
      ]
    },
    {
      "cell_type": "markdown",
      "id": "968fa4ea",
      "metadata": {
        "tags": [],
        "id": "968fa4ea"
      },
      "source": [
        "To train linear regression using one-hot encoded variety as input, we just need to initialize `X` and `y` data correctly:"
      ]
    },
    {
      "cell_type": "code",
      "execution_count": null,
      "id": "f0bc3720",
      "metadata": {
        "attributes": {
          "classes": [
            "code-cell"
          ],
          "id": ""
        },
        "tags": [],
        "id": "f0bc3720"
      },
      "outputs": [],
      "source": [
        "X = pd.get_dummies(new_pumpkins[\"Variety\"])\n",
        "y = new_pumpkins[\"Price\"]"
      ]
    },
    {
      "cell_type": "markdown",
      "id": "cc63ccc2",
      "metadata": {
        "tags": [],
        "id": "cc63ccc2"
      },
      "source": [
        "The rest of the code is the same as what we used above to train Linear Regression. If we try it, we will see that the mean squared error is about the same, but we get the much higher coefficient of determination (~77%). To get even more accurate predictions, we can take more categorical features into account, as well as numeric features, such as `Month` or `DayOfYear`. To get one large array of features, we can use `join`:"
      ]
    },
    {
      "cell_type": "code",
      "execution_count": null,
      "id": "6fd52a7f",
      "metadata": {
        "attributes": {
          "classes": [
            "code-cell"
          ],
          "id": ""
        },
        "tags": [],
        "id": "6fd52a7f"
      },
      "outputs": [],
      "source": [
        "X = (\n",
        "    pd.get_dummies(new_pumpkins[\"Variety\"])\n",
        "    .join(new_pumpkins[\"Month\"])\n",
        "    .join(pd.get_dummies(new_pumpkins[\"City\"]))\n",
        "    .join(pd.get_dummies(new_pumpkins[\"Package\"]))\n",
        ")\n",
        "y = new_pumpkins[\"Price\"]"
      ]
    },
    {
      "cell_type": "markdown",
      "id": "e113e574",
      "metadata": {
        "tags": [],
        "id": "e113e574"
      },
      "source": [
        "Here we also take into account `City` and `Package` type, which gives us MSE 2.84 (10%), and determination 0.94!\n",
        "\n",
        "## Putting it all together\n",
        "\n",
        "To make the best model, we can use combined (one-hot encoded categorical + numeric) data from the above example together with Polynomial Regression. Here is the complete code for our convenience:"
      ]
    },
    {
      "cell_type": "code",
      "execution_count": null,
      "id": "fffe46b9",
      "metadata": {
        "attributes": {
          "classes": [
            "code-cell"
          ],
          "id": ""
        },
        "tags": [],
        "id": "fffe46b9",
        "outputId": "86f0aabb-7de5-445b-d88d-cdf09accba21"
      },
      "outputs": [
        {
          "name": "stdout",
          "output_type": "stream",
          "text": [
            "Mean error: 2.23 (8.25%)\n",
            "Model determination:  0.9652869939759445\n"
          ]
        }
      ],
      "source": [
        "# set up training data\n",
        "X = (\n",
        "    pd.get_dummies(new_pumpkins[\"Variety\"])\n",
        "    .join(new_pumpkins[\"Month\"])\n",
        "    .join(pd.get_dummies(new_pumpkins[\"City\"]))\n",
        "    .join(pd.get_dummies(new_pumpkins[\"Package\"]))\n",
        ")\n",
        "y = new_pumpkins[\"Price\"]\n",
        "\n",
        "# make train-test split\n",
        "X_train, X_test, y_train, y_test = train_test_split(X, y, test_size=0.2, random_state=0)\n",
        "\n",
        "# setup and train the pipeline\n",
        "pipeline = make_pipeline(PolynomialFeatures(2), LinearRegression())\n",
        "pipeline.fit(X_train, y_train)\n",
        "\n",
        "# predict results for test data\n",
        "pred = pipeline.predict(X_test)\n",
        "\n",
        "# calculate MSE and determination\n",
        "mse = np.sqrt(mean_squared_error(y_test, pred))\n",
        "print(f\"Mean error: {mse:3.3} ({mse/np.mean(pred)*100:3.3}%)\")\n",
        "\n",
        "score = pipeline.score(X_train, y_train)\n",
        "print(\"Model determination: \", score)"
      ]
    },
    {
      "cell_type": "markdown",
      "id": "28aa766b",
      "metadata": {
        "tags": [],
        "id": "28aa766b"
      },
      "source": [
        "This should give us the best determination coefficient of almost 97%, and MSE=2.23 (~8% prediction error).\n",
        "\n",
        "| Model | MSE | Determination |\n",
        "|-------|-----|---------------|\n",
        "| `DayOfYear` Linear | 2.77 (17.2%) | 0.07 |\n",
        "| `DayOfYear` Polynomial | 2.73 (17.0%) | 0.08 |\n",
        "| `Variety` Linear | 5.24 (19.7%) | 0.77 |\n",
        "| All features Linear | 2.84 (10.5%) | 0.94 |\n",
        "| All features Polynomial | 2.23 (8.25%) | 0.97 |\n",
        "\n",
        "🏆 Well done! We created four Regression models in one section and improved the model quality to 97%. In the final section on Regression, we will learn about Logistic Regression to determine categories.\n",
        "\n",
        "## Self study\n",
        "\n",
        "In this section, we learned about Linear Regression. There are other important types of Regression. Read about Stepwise, Ridge, Lasso and Elasticnet techniques. A good course to study to learn more is the [Stanford Statistical Learning course](https://online.stanford.edu/courses/sohs-ystatslearning-statistical-learning)\n",
        "\n",
        "## Your turn! 🚀\n",
        "\n",
        "Test several different variables in this notebook to see how correlation corresponds to model accuracy.\n",
        "\n",
        "Assignment - [Create a regression model](../../assignments/ml-fundamentals/create-a-regression-model.md)\n",
        "\n",
        "## Acknowledgments\n",
        "\n",
        "Thanks to Microsoft for creating the open-source course [ML-For-Beginners](https://github.com/microsoft/ML-For-Beginners). It inspires the majority of the content in this chapter.\n",
        "\n",
        "---\n",
        "\n",
        ":::{bibliography}\n",
        ":filter: docname in docnames\n",
        ":::"
      ]
    },
    {
      "cell_type": "code",
      "execution_count": null,
      "id": "28b44e74",
      "metadata": {
        "tags": [
          "hide-input"
        ],
        "id": "28b44e74",
        "outputId": "a411db93-7912-454e-e5a0-7dfdbc821493",
        "colab": {
          "base_uri": "https://localhost:8080/",
          "height": 870
        }
      },
      "outputs": [
        {
          "output_type": "display_data",
          "data": {
            "text/plain": [
              "<IPython.core.display.HTML object>"
            ],
            "text/html": [
              "\n",
              "<div class='full-width docutils' >\n",
              "    <p style=\"text-align: center;\">\n",
              "        <iframe src=\"https://static-1300131294.cos.ap-shanghai.myqcloud.com/html/gradient-3D-demo/gradient_react_3D.html\" width=\"105%\" height=\"800px\"\n",
              "style=\"border:none;\" scrolling=\"auto\"></iframe>\n",
              "        A demo of gradient_react_3D. <a href=\"https://ben-karr.github.io/react-3d-gradients/\"> [source]</a>\n",
              "    </p>\n",
              "</div>\n"
            ]
          },
          "metadata": {}
        }
      ],
      "source": [
        "## a fancy 3d graph\n",
        "from IPython.display import HTML\n",
        "\n",
        "display(\n",
        "    HTML(\n",
        "        \"\"\"\n",
        "<div class='full-width docutils' >\n",
        "    <p style=\"text-align: center;\">\n",
        "        <iframe src=\"https://static-1300131294.cos.ap-shanghai.myqcloud.com/html/gradient-3D-demo/gradient_react_3D.html\" width=\"105%\" height=\"800px\"\n",
        "style=\"border:none;\" scrolling=\"auto\"></iframe>\n",
        "        A demo of gradient_react_3D. <a href=\"https://ben-karr.github.io/react-3d-gradients/\"> [source]</a>\n",
        "    </p>\n",
        "</div>\n",
        "\"\"\"\n",
        "    )\n",
        ")"
      ]
    },
    {
      "cell_type": "code",
      "execution_count": null,
      "id": "a14c82b5",
      "metadata": {
        "tags": [
          "hide-input"
        ],
        "id": "a14c82b5",
        "outputId": "69c8e2d6-7992-464b-8245-5975e8ff37a9",
        "colab": {
          "base_uri": "https://localhost:8080/",
          "height": 670
        }
      },
      "outputs": [
        {
          "output_type": "display_data",
          "data": {
            "text/plain": [
              "<IPython.core.display.HTML object>"
            ],
            "text/html": [
              "\n",
              "<div class='full-width docutils' >\n",
              "    <p style=\"text-align: center;\">\n",
              "        <iframe src=\"https://static-1300131294.cos.ap-shanghai.myqcloud.com/html/gradient-descent-visualiser/gradient-descent.html\" width=\"105%\" height=\"600px\"\n",
              "        style=\"border:none;\" scrolling=\"auto\"></iframe>\n",
              "        A demo of gradient-descent-visualiser. <a href=\"https://uclaacm.github.io/gradient-descent-visualiser/#playgroundn\"> [source]</a>\n",
              "    </p>\n",
              "</div>\n"
            ]
          },
          "metadata": {}
        }
      ],
      "source": [
        "from IPython.display import HTML\n",
        "\n",
        "display(\n",
        "    HTML(\n",
        "        \"\"\"\n",
        "<div class='full-width docutils' >\n",
        "    <p style=\"text-align: center;\">\n",
        "        <iframe src=\"https://static-1300131294.cos.ap-shanghai.myqcloud.com/html/gradient-descent-visualiser/gradient-descent.html\" width=\"105%\" height=\"600px\"\n",
        "        style=\"border:none;\" scrolling=\"auto\"></iframe>\n",
        "        A demo of gradient-descent-visualiser. <a href=\"https://uclaacm.github.io/gradient-descent-visualiser/#playgroundn\"> [source]</a>\n",
        "    </p>\n",
        "</div>\n",
        "\"\"\"\n",
        "    )\n",
        ")"
      ]
    }
  ],
  "metadata": {
    "kernelspec": {
      "display_name": "Python 3 (ipykernel)",
      "language": "python",
      "name": "python3"
    },
    "language_info": {
      "codemirror_mode": {
        "name": "ipython",
        "version": 3
      },
      "file_extension": ".py",
      "mimetype": "text/x-python",
      "name": "python",
      "nbconvert_exporter": "python",
      "pygments_lexer": "ipython3",
      "version": "3.9.16"
    },
    "toc": {
      "base_numbering": 1,
      "nav_menu": {},
      "number_sections": true,
      "sideBar": true,
      "skip_h1_title": false,
      "title_cell": "Table of Contents",
      "title_sidebar": "Contents",
      "toc_cell": false,
      "toc_position": {},
      "toc_section_display": true,
      "toc_window_display": false
    },
    "colab": {
      "provenance": [],
      "include_colab_link": true
    }
  },
  "nbformat": 4,
  "nbformat_minor": 5
}